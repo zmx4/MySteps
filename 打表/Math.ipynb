{
 "cells": [
  {
   "cell_type": "code",
   "execution_count": 11,
   "id": "eed7f2ad",
   "metadata": {},
   "outputs": [
    {
     "name": "stdout",
     "output_type": "stream",
     "text": [
      "1\n",
      "11\n",
      "13\n",
      "17\n",
      "19\n",
      "23\n",
      "29\n",
      "31\n",
      "37\n",
      "41\n",
      "43\n",
      "47\n",
      "53\n",
      "59\n",
      "61\n",
      "67\n",
      "71\n",
      "73\n",
      "79\n",
      "83\n",
      "89\n",
      "97\n",
      "total: 22\n"
     ]
    }
   ],
   "source": [
    "import math\n",
    "from math import sqrt\n",
    "n = 100\n",
    "cnt = 0\n",
    "for i in range(n):\n",
    "    flag = True\n",
    "    for j in range(2,int(sqrt(n))):\n",
    "        if(i%j==0):\n",
    "            flag = False\n",
    "            break\n",
    "    if(flag):\n",
    "        print(i)\n",
    "        cnt+=1\n",
    "print(\"total:\",cnt)"
   ]
  }
 ],
 "metadata": {
  "kernelspec": {
   "display_name": "Python 3",
   "language": "python",
   "name": "python3"
  },
  "language_info": {
   "codemirror_mode": {
    "name": "ipython",
    "version": 3
   },
   "file_extension": ".py",
   "mimetype": "text/x-python",
   "name": "python",
   "nbconvert_exporter": "python",
   "pygments_lexer": "ipython3",
   "version": "3.12.5"
  }
 },
 "nbformat": 4,
 "nbformat_minor": 5
}
