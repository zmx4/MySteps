{
 "cells": [
  {
   "cell_type": "code",
   "execution_count": 2,
   "metadata": {
    "ExecuteTime": {
     "end_time": "2025-01-28T15:08:02.636923Z",
     "start_time": "2025-01-28T15:08:02.632978Z"
    }
   },
   "outputs": [
    {
     "name": "stdout",
     "output_type": "stream",
     "text": [
      "Hello World\n"
     ]
    }
   ],
   "source": [
    "print(\"Hello World\")"
   ]
  },
  {
   "cell_type": "code",
   "execution_count": 1,
   "metadata": {},
   "outputs": [
    {
     "ename": "KeyboardInterrupt",
     "evalue": "",
     "output_type": "error",
     "traceback": [
      "\u001b[1;31m---------------------------------------------------------------------------\u001b[0m",
      "\u001b[1;31mKeyboardInterrupt\u001b[0m                         Traceback (most recent call last)",
      "Cell \u001b[1;32mIn[1], line 24\u001b[0m\n\u001b[0;32m     21\u001b[0m                 \u001b[38;5;28;01mreturn\u001b[39;00m p, q, k\n\u001b[0;32m     22\u001b[0m     \u001b[38;5;28;01mreturn\u001b[39;00m \u001b[38;5;28;01mNone\u001b[39;00m\n\u001b[1;32m---> 24\u001b[0m res \u001b[38;5;241m=\u001b[39m \u001b[43mfind_prime_pair\u001b[49m\u001b[43m(\u001b[49m\u001b[43m)\u001b[49m\n\u001b[0;32m     25\u001b[0m \u001b[38;5;28;01mif\u001b[39;00m res:\n\u001b[0;32m     26\u001b[0m     p, q, k \u001b[38;5;241m=\u001b[39m res\n",
      "Cell \u001b[1;32mIn[1], line 20\u001b[0m, in \u001b[0;36mfind_prime_pair\u001b[1;34m()\u001b[0m\n\u001b[0;32m     18\u001b[0m         p, q \u001b[38;5;241m=\u001b[39m primes[i], primes[j]\n\u001b[0;32m     19\u001b[0m         k \u001b[38;5;241m=\u001b[39m q \u001b[38;5;241m-\u001b[39m p \u001b[38;5;241m-\u001b[39m \u001b[38;5;241m1\u001b[39m\n\u001b[1;32m---> 20\u001b[0m         \u001b[38;5;28;01mif\u001b[39;00m k \u001b[38;5;241m>\u001b[39m \u001b[38;5;241m0\u001b[39m \u001b[38;5;129;01mand\u001b[39;00m (p \u001b[38;5;241m*\u001b[39m q) \u001b[38;5;241m==\u001b[39m k \u001b[38;5;241m*\u001b[39m (p \u001b[38;5;241m+\u001b[39m q):\n\u001b[0;32m     21\u001b[0m             \u001b[38;5;28;01mreturn\u001b[39;00m p, q, k\n\u001b[0;32m     22\u001b[0m \u001b[38;5;28;01mreturn\u001b[39;00m \u001b[38;5;28;01mNone\u001b[39;00m\n",
      "\u001b[1;31mKeyboardInterrupt\u001b[0m: "
     ]
    }
   ],
   "source": [
    "#不同素数相乘是不同素数的和的倍数，【并且倍数值为（最大素数值-减去最小素数值-1）提升难度版】，是否存在这样的质数组合\n",
    "def is_prime(n):\n",
    "    if n <= 1:\n",
    "        return False\n",
    "    if n == 2:\n",
    "        return True\n",
    "    if n % 2 == 0:\n",
    "        return False\n",
    "    for i in range(3, int(n**0.5) + 1, 2):\n",
    "        if n % i == 0:\n",
    "            return False\n",
    "    return True\n",
    "\n",
    "def find_prime_pair():\n",
    "    primes = [i for i in range(2, 1000000) if is_prime(i)]\n",
    "    for i in range(len(primes)):\n",
    "        for j in range(i + 1, len(primes)):\n",
    "            p, q = primes[i], primes[j]\n",
    "            k = q - p - 1\n",
    "            if k > 0 and (p * q) == k * (p + q):\n",
    "                return p, q, k\n",
    "    return None\n",
    "\n",
    "res = find_prime_pair()\n",
    "if res:\n",
    "    p, q, k = res\n",
    "    print(f\"Found primes: p = {p}, q = {q} with k = {k}\")\n",
    "else:\n",
    "    print(\"No such prime pair found.\")"
   ]
  }
 ],
 "metadata": {
  "kernelspec": {
   "display_name": "Python 3",
   "language": "python",
   "name": "python3"
  },
  "language_info": {
   "codemirror_mode": {
    "name": "ipython",
    "version": 3
   },
   "file_extension": ".py",
   "mimetype": "text/x-python",
   "name": "python",
   "nbconvert_exporter": "python",
   "pygments_lexer": "ipython3",
   "version": "3.12.5"
  }
 },
 "nbformat": 4,
 "nbformat_minor": 2
}
