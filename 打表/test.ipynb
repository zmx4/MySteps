{
 "cells": [
  {
   "cell_type": "code",
   "execution_count": 1,
   "metadata": {
    "ExecuteTime": {
     "end_time": "2025-01-28T15:08:02.636923Z",
     "start_time": "2025-01-28T15:08:02.632978Z"
    }
   },
   "outputs": [
    {
     "name": "stdout",
     "output_type": "stream",
     "text": [
      "Hello World\n"
     ]
    }
   ],
   "source": [
    "print(\"Hello World\")"
   ]
  },
  {
   "cell_type": "code",
   "execution_count": null,
   "metadata": {},
   "outputs": [
    {
     "name": "stdout",
     "output_type": "stream",
     "text": [
      "No such prime pair found.\n"
     ]
    }
   ],
   "source": [
    "#不同素数相乘是不同素数的和的倍数，【并且倍数值为（最大素数值-减去最小素数值-1）提升难度版】，是否存在这样的质数组合\n",
    "def is_prime(n):\n",
    "    if n <= 1:\n",
    "        return False\n",
    "    if n == 2:\n",
    "        return True\n",
    "    if n % 2 == 0:\n",
    "        return False\n",
    "    for i in range(3, int(n**0.5) + 1, 2):\n",
    "        if n % i == 0:\n",
    "            return False\n",
    "    return True\n",
    "\n",
    "def find_prime_pair():\n",
    "    primes = [i for i in range(2, 1000000) if is_prime(i)]\n",
    "    for i in range(len(primes)):\n",
    "        for j in range(i + 1, len(primes)):\n",
    "            p, q = primes[i], primes[j]\n",
    "            k = q - p - 1\n",
    "            if k > 0 and (p * q) == k * (p + q):\n",
    "                return p, q, k\n",
    "    return None\n",
    "\n",
    "res = find_prime_pair()\n",
    "if res:\n",
    "    p, q, k = res\n",
    "    print(f\"Found primes: p = {p}, q = {q} with k = {k}\")\n",
    "else:\n",
    "    print(\"No such prime pair found.\")"
   ]
  }
 ],
 "metadata": {
  "kernelspec": {
   "display_name": "Python 3",
   "language": "python",
   "name": "python3"
  },
  "language_info": {
   "codemirror_mode": {
    "name": "ipython",
    "version": 3
   },
   "file_extension": ".py",
   "mimetype": "text/x-python",
   "name": "python",
   "nbconvert_exporter": "python",
   "pygments_lexer": "ipython3",
   "version": "3.12.5"
  }
 },
 "nbformat": 4,
 "nbformat_minor": 2
}
